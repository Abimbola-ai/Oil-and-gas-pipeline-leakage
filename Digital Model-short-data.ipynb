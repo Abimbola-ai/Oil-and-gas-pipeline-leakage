{
 "cells": [
  {
   "cell_type": "code",
   "execution_count": 1,
   "metadata": {},
   "outputs": [
    {
     "name": "stderr",
     "output_type": "stream",
     "text": [
      "/Applications/anaconda3/lib/python3.7/site-packages/statsmodels/tools/_testing.py:19: FutureWarning: pandas.util.testing is deprecated. Use the functions in the public API at pandas.testing instead.\n",
      "  import pandas.util.testing as tm\n"
     ]
    }
   ],
   "source": [
    "# Import necessary library\n",
    "import pandas as pd\n",
    "import numpy as np\n",
    "import matplotlib.pyplot as plt\n",
    "import seaborn as sns\n",
    "import os\n",
    "\n",
    "from sklearn.model_selection import train_test_split \n",
    "from sklearn.preprocessing import StandardScaler, MinMaxScaler\n",
    "from sklearn import ensemble\n",
    "from sklearn.linear_model import LinearRegression\n",
    "from sklearn.metrics import mean_squared_error\n",
    "from sklearn import metrics\n",
    "from math import sqrt\n",
    "\n",
    "%matplotlib inline"
   ]
  },
  {
   "cell_type": "code",
   "execution_count": 2,
   "metadata": {},
   "outputs": [
    {
     "data": {
      "text/html": [
       "<div>\n",
       "<style scoped>\n",
       "    .dataframe tbody tr th:only-of-type {\n",
       "        vertical-align: middle;\n",
       "    }\n",
       "\n",
       "    .dataframe tbody tr th {\n",
       "        vertical-align: top;\n",
       "    }\n",
       "\n",
       "    .dataframe thead th {\n",
       "        text-align: right;\n",
       "    }\n",
       "</style>\n",
       "<table border=\"1\" class=\"dataframe\">\n",
       "  <thead>\n",
       "    <tr style=\"text-align: right;\">\n",
       "      <th></th>\n",
       "      <th>Wellhead Temp. (C)</th>\n",
       "      <th>Wellhead Press (psi)</th>\n",
       "      <th>MMCFD- gas</th>\n",
       "      <th>BOPD (barrel of oil produced per day)</th>\n",
       "      <th>BWPD (barrel of water produced per day)</th>\n",
       "      <th>BSW - basic solid and water (%)</th>\n",
       "      <th>CO2 mol. (%) @ 25 C &amp; 1 Atm.</th>\n",
       "      <th>Gas Grav.</th>\n",
       "      <th>CR-corrosion defect</th>\n",
       "    </tr>\n",
       "  </thead>\n",
       "  <tbody>\n",
       "    <tr>\n",
       "      <th>0</th>\n",
       "      <td>64.13</td>\n",
       "      <td>2058.81</td>\n",
       "      <td>2.53</td>\n",
       "      <td>1307.94</td>\n",
       "      <td>5815.68</td>\n",
       "      <td>21.06</td>\n",
       "      <td>4.1099</td>\n",
       "      <td>0.7434</td>\n",
       "      <td>0.4052</td>\n",
       "    </tr>\n",
       "    <tr>\n",
       "      <th>1</th>\n",
       "      <td>68.21</td>\n",
       "      <td>1883.68</td>\n",
       "      <td>2.73</td>\n",
       "      <td>610.06</td>\n",
       "      <td>6343.57</td>\n",
       "      <td>9.71</td>\n",
       "      <td>0.9330</td>\n",
       "      <td>0.7421</td>\n",
       "      <td>0.4044</td>\n",
       "    </tr>\n",
       "    <tr>\n",
       "      <th>2</th>\n",
       "      <td>45.27</td>\n",
       "      <td>948.74</td>\n",
       "      <td>3.90</td>\n",
       "      <td>480.06</td>\n",
       "      <td>6251.32</td>\n",
       "      <td>23.71</td>\n",
       "      <td>4.1899</td>\n",
       "      <td>0.7915</td>\n",
       "      <td>0.3997</td>\n",
       "    </tr>\n",
       "    <tr>\n",
       "      <th>3</th>\n",
       "      <td>66.97</td>\n",
       "      <td>2036.34</td>\n",
       "      <td>15.26</td>\n",
       "      <td>700.38</td>\n",
       "      <td>7795.69</td>\n",
       "      <td>61.04</td>\n",
       "      <td>1.6463</td>\n",
       "      <td>0.9139</td>\n",
       "      <td>0.3991</td>\n",
       "    </tr>\n",
       "    <tr>\n",
       "      <th>4</th>\n",
       "      <td>67.21</td>\n",
       "      <td>1340.54</td>\n",
       "      <td>10.36</td>\n",
       "      <td>1209.46</td>\n",
       "      <td>123.96</td>\n",
       "      <td>20.47</td>\n",
       "      <td>2.1917</td>\n",
       "      <td>0.8877</td>\n",
       "      <td>0.3980</td>\n",
       "    </tr>\n",
       "  </tbody>\n",
       "</table>\n",
       "</div>"
      ],
      "text/plain": [
       "   Wellhead Temp. (C)  Wellhead Press (psi)  MMCFD- gas  \\\n",
       "0               64.13               2058.81        2.53   \n",
       "1               68.21               1883.68        2.73   \n",
       "2               45.27                948.74        3.90   \n",
       "3               66.97               2036.34       15.26   \n",
       "4               67.21               1340.54       10.36   \n",
       "\n",
       "   BOPD (barrel of oil produced per day)  \\\n",
       "0                                1307.94   \n",
       "1                                 610.06   \n",
       "2                                 480.06   \n",
       "3                                 700.38   \n",
       "4                                1209.46   \n",
       "\n",
       "   BWPD (barrel of water produced per day)  BSW - basic solid and water (%)  \\\n",
       "0                                  5815.68                            21.06   \n",
       "1                                  6343.57                             9.71   \n",
       "2                                  6251.32                            23.71   \n",
       "3                                  7795.69                            61.04   \n",
       "4                                   123.96                            20.47   \n",
       "\n",
       "   CO2 mol. (%) @ 25 C & 1 Atm.  Gas Grav.  CR-corrosion defect   \n",
       "0                        4.1099     0.7434                0.4052  \n",
       "1                        0.9330     0.7421                0.4044  \n",
       "2                        4.1899     0.7915                0.3997  \n",
       "3                        1.6463     0.9139                0.3991  \n",
       "4                        2.1917     0.8877                0.3980  "
      ]
     },
     "execution_count": 2,
     "metadata": {},
     "output_type": "execute_result"
    }
   ],
   "source": [
    "data = pd.read_csv('data.csv')\n",
    "data.head()"
   ]
  },
  {
   "cell_type": "code",
   "execution_count": 3,
   "metadata": {},
   "outputs": [
    {
     "name": "stdout",
     "output_type": "stream",
     "text": [
      "<class 'pandas.core.frame.DataFrame'>\n",
      "RangeIndex: 292 entries, 0 to 291\n",
      "Data columns (total 9 columns):\n",
      " #   Column                                   Non-Null Count  Dtype  \n",
      "---  ------                                   --------------  -----  \n",
      " 0   Wellhead Temp. (C)                       292 non-null    float64\n",
      " 1   Wellhead Press (psi)                     292 non-null    float64\n",
      " 2   MMCFD- gas                               292 non-null    float64\n",
      " 3   BOPD (barrel of oil produced per day)    292 non-null    float64\n",
      " 4   BWPD (barrel of water produced per day)  292 non-null    float64\n",
      " 5   BSW - basic solid and water (%)          292 non-null    float64\n",
      " 6   CO2 mol. (%) @ 25 C & 1 Atm.             292 non-null    float64\n",
      " 7   Gas Grav.                                292 non-null    float64\n",
      " 8   CR-corrosion defect                      292 non-null    float64\n",
      "dtypes: float64(9)\n",
      "memory usage: 20.7 KB\n"
     ]
    }
   ],
   "source": [
    "# Check data types\n",
    "data.info()"
   ]
  },
  {
   "cell_type": "code",
   "execution_count": 4,
   "metadata": {},
   "outputs": [
    {
     "data": {
      "text/html": [
       "<div>\n",
       "<style scoped>\n",
       "    .dataframe tbody tr th:only-of-type {\n",
       "        vertical-align: middle;\n",
       "    }\n",
       "\n",
       "    .dataframe tbody tr th {\n",
       "        vertical-align: top;\n",
       "    }\n",
       "\n",
       "    .dataframe thead th {\n",
       "        text-align: right;\n",
       "    }\n",
       "</style>\n",
       "<table border=\"1\" class=\"dataframe\">\n",
       "  <thead>\n",
       "    <tr style=\"text-align: right;\">\n",
       "      <th></th>\n",
       "      <th>Wellhead Temp. (C)</th>\n",
       "      <th>Wellhead Press (psi)</th>\n",
       "      <th>MMCFD- gas</th>\n",
       "      <th>BOPD (barrel of oil produced per day)</th>\n",
       "      <th>BWPD (barrel of water produced per day)</th>\n",
       "      <th>BSW - basic solid and water (%)</th>\n",
       "      <th>CO2 mol. (%) @ 25 C &amp; 1 Atm.</th>\n",
       "      <th>Gas Grav.</th>\n",
       "      <th>CR-corrosion defect</th>\n",
       "    </tr>\n",
       "  </thead>\n",
       "  <tbody>\n",
       "    <tr>\n",
       "      <th>count</th>\n",
       "      <td>292.000000</td>\n",
       "      <td>292.000000</td>\n",
       "      <td>292.000000</td>\n",
       "      <td>292.000000</td>\n",
       "      <td>292.000000</td>\n",
       "      <td>292.000000</td>\n",
       "      <td>292.000000</td>\n",
       "      <td>292.000000</td>\n",
       "      <td>292.000000</td>\n",
       "    </tr>\n",
       "    <tr>\n",
       "      <th>mean</th>\n",
       "      <td>59.882979</td>\n",
       "      <td>1476.940137</td>\n",
       "      <td>7.672979</td>\n",
       "      <td>1022.484760</td>\n",
       "      <td>4232.614281</td>\n",
       "      <td>41.500479</td>\n",
       "      <td>2.764615</td>\n",
       "      <td>0.825091</td>\n",
       "      <td>0.210450</td>\n",
       "    </tr>\n",
       "    <tr>\n",
       "      <th>std</th>\n",
       "      <td>8.689875</td>\n",
       "      <td>528.118015</td>\n",
       "      <td>4.994977</td>\n",
       "      <td>544.609518</td>\n",
       "      <td>2763.672374</td>\n",
       "      <td>25.891736</td>\n",
       "      <td>0.999888</td>\n",
       "      <td>0.063128</td>\n",
       "      <td>0.121707</td>\n",
       "    </tr>\n",
       "    <tr>\n",
       "      <th>min</th>\n",
       "      <td>41.070000</td>\n",
       "      <td>382.080000</td>\n",
       "      <td>0.230000</td>\n",
       "      <td>129.470000</td>\n",
       "      <td>40.610000</td>\n",
       "      <td>0.130000</td>\n",
       "      <td>0.678600</td>\n",
       "      <td>0.711100</td>\n",
       "      <td>0.000900</td>\n",
       "    </tr>\n",
       "    <tr>\n",
       "      <th>25%</th>\n",
       "      <td>52.762500</td>\n",
       "      <td>1039.450000</td>\n",
       "      <td>3.282500</td>\n",
       "      <td>562.817500</td>\n",
       "      <td>1833.500000</td>\n",
       "      <td>18.042500</td>\n",
       "      <td>1.996850</td>\n",
       "      <td>0.772075</td>\n",
       "      <td>0.107625</td>\n",
       "    </tr>\n",
       "    <tr>\n",
       "      <th>50%</th>\n",
       "      <td>61.920000</td>\n",
       "      <td>1546.675000</td>\n",
       "      <td>6.905000</td>\n",
       "      <td>998.915000</td>\n",
       "      <td>3671.875000</td>\n",
       "      <td>39.955000</td>\n",
       "      <td>2.887850</td>\n",
       "      <td>0.829150</td>\n",
       "      <td>0.222400</td>\n",
       "    </tr>\n",
       "    <tr>\n",
       "      <th>75%</th>\n",
       "      <td>66.637500</td>\n",
       "      <td>1913.565000</td>\n",
       "      <td>11.752500</td>\n",
       "      <td>1455.182500</td>\n",
       "      <td>6845.135000</td>\n",
       "      <td>64.170000</td>\n",
       "      <td>3.561775</td>\n",
       "      <td>0.879225</td>\n",
       "      <td>0.316375</td>\n",
       "    </tr>\n",
       "    <tr>\n",
       "      <th>max</th>\n",
       "      <td>73.870000</td>\n",
       "      <td>2317.230000</td>\n",
       "      <td>17.540000</td>\n",
       "      <td>2087.430000</td>\n",
       "      <td>9314.260000</td>\n",
       "      <td>89.260000</td>\n",
       "      <td>4.298200</td>\n",
       "      <td>0.931900</td>\n",
       "      <td>0.405200</td>\n",
       "    </tr>\n",
       "  </tbody>\n",
       "</table>\n",
       "</div>"
      ],
      "text/plain": [
       "       Wellhead Temp. (C)  Wellhead Press (psi)  MMCFD- gas  \\\n",
       "count          292.000000            292.000000  292.000000   \n",
       "mean            59.882979           1476.940137    7.672979   \n",
       "std              8.689875            528.118015    4.994977   \n",
       "min             41.070000            382.080000    0.230000   \n",
       "25%             52.762500           1039.450000    3.282500   \n",
       "50%             61.920000           1546.675000    6.905000   \n",
       "75%             66.637500           1913.565000   11.752500   \n",
       "max             73.870000           2317.230000   17.540000   \n",
       "\n",
       "       BOPD (barrel of oil produced per day)  \\\n",
       "count                             292.000000   \n",
       "mean                             1022.484760   \n",
       "std                               544.609518   \n",
       "min                               129.470000   \n",
       "25%                               562.817500   \n",
       "50%                               998.915000   \n",
       "75%                              1455.182500   \n",
       "max                              2087.430000   \n",
       "\n",
       "       BWPD (barrel of water produced per day)  \\\n",
       "count                               292.000000   \n",
       "mean                               4232.614281   \n",
       "std                                2763.672374   \n",
       "min                                  40.610000   \n",
       "25%                                1833.500000   \n",
       "50%                                3671.875000   \n",
       "75%                                6845.135000   \n",
       "max                                9314.260000   \n",
       "\n",
       "       BSW - basic solid and water (%)  CO2 mol. (%) @ 25 C & 1 Atm.  \\\n",
       "count                       292.000000                    292.000000   \n",
       "mean                         41.500479                      2.764615   \n",
       "std                          25.891736                      0.999888   \n",
       "min                           0.130000                      0.678600   \n",
       "25%                          18.042500                      1.996850   \n",
       "50%                          39.955000                      2.887850   \n",
       "75%                          64.170000                      3.561775   \n",
       "max                          89.260000                      4.298200   \n",
       "\n",
       "        Gas Grav.  CR-corrosion defect   \n",
       "count  292.000000            292.000000  \n",
       "mean     0.825091              0.210450  \n",
       "std      0.063128              0.121707  \n",
       "min      0.711100              0.000900  \n",
       "25%      0.772075              0.107625  \n",
       "50%      0.829150              0.222400  \n",
       "75%      0.879225              0.316375  \n",
       "max      0.931900              0.405200  "
      ]
     },
     "execution_count": 4,
     "metadata": {},
     "output_type": "execute_result"
    }
   ],
   "source": [
    "# Descriptive statistics\n",
    "data.describe()"
   ]
  },
  {
   "cell_type": "code",
   "execution_count": 5,
   "metadata": {},
   "outputs": [
    {
     "data": {
      "text/plain": [
       "Wellhead Temp. (C)                         0\n",
       "Wellhead Press (psi)                       0\n",
       "MMCFD- gas                                 0\n",
       "BOPD (barrel of oil produced per day)      0\n",
       "BWPD (barrel of water produced per day)    0\n",
       "BSW - basic solid and water (%)            0\n",
       "CO2 mol. (%) @ 25 C & 1 Atm.               0\n",
       "Gas Grav.                                  0\n",
       "CR-corrosion defect                        0\n",
       "dtype: int64"
      ]
     },
     "execution_count": 5,
     "metadata": {},
     "output_type": "execute_result"
    }
   ],
   "source": [
    "# Check for missing values\n",
    "data.isnull().sum()"
   ]
  },
  {
   "cell_type": "code",
   "execution_count": 21,
   "metadata": {},
   "outputs": [],
   "source": [
    "# Perform some graphical analysis on the data\n",
    "# from scipy.stats import norm\n",
    "# ax = sns.pairplot(data)"
   ]
  },
  {
   "cell_type": "markdown",
   "metadata": {},
   "source": [
    "## Data Modeling"
   ]
  },
  {
   "cell_type": "code",
   "execution_count": 6,
   "metadata": {},
   "outputs": [],
   "source": [
    "X = data.iloc[:,0:8].values\n",
    "y = data.iloc[:,8]\n",
    "X = MinMaxScaler().fit_transform(X)"
   ]
  },
  {
   "cell_type": "code",
   "execution_count": 7,
   "metadata": {},
   "outputs": [
    {
     "data": {
      "text/plain": [
       "array([[0.70304878, 0.86645996, 0.13287117, ..., 0.23482554, 0.94797768,\n",
       "        0.14628623],\n",
       "       [0.82743902, 0.77596052, 0.14442519, ..., 0.10748345, 0.07028401,\n",
       "        0.14039855],\n",
       "       [0.12804878, 0.29282485, 0.21201618, ..., 0.26455739, 0.97007957,\n",
       "        0.36413043],\n",
       "       ...,\n",
       "       [0.39512195, 0.98430613, 0.073368  , ..., 0.08650286, 0.85031495,\n",
       "        0.85144928],\n",
       "       [0.14085366, 0.6676485 , 0.18428654, ..., 0.25748906, 0.86343795,\n",
       "        0.3754529 ],\n",
       "       [0.67804878, 0.89966152, 0.16117851, ..., 0.73465724, 0.69585037,\n",
       "        0.20561594]])"
      ]
     },
     "execution_count": 7,
     "metadata": {},
     "output_type": "execute_result"
    }
   ],
   "source": [
    "X"
   ]
  },
  {
   "cell_type": "code",
   "execution_count": 8,
   "metadata": {},
   "outputs": [
    {
     "data": {
      "text/plain": [
       "0      0.4052\n",
       "1      0.4044\n",
       "2      0.3997\n",
       "3      0.3991\n",
       "4      0.3980\n",
       "        ...  \n",
       "287    0.0031\n",
       "288    0.0027\n",
       "289    0.0027\n",
       "290    0.0022\n",
       "291    0.0009\n",
       "Name: CR-corrosion defect , Length: 292, dtype: float64"
      ]
     },
     "execution_count": 8,
     "metadata": {},
     "output_type": "execute_result"
    }
   ],
   "source": [
    "y"
   ]
  },
  {
   "cell_type": "code",
   "execution_count": 10,
   "metadata": {},
   "outputs": [
    {
     "name": "stdout",
     "output_type": "stream",
     "text": [
      "(233, 8) (59, 8)\n"
     ]
    }
   ],
   "source": [
    "# Splitting the dataset into the Training set and Test set\n",
    "X_train, X_test, y_train, y_test = train_test_split(X, y, test_size=0.2, random_state=42)\n",
    "print(X_train.shape,X_test.shape)"
   ]
  },
  {
   "cell_type": "markdown",
   "metadata": {},
   "source": [
    "### Create a baseline linear regression model"
   ]
  },
  {
   "cell_type": "code",
   "execution_count": 11,
   "metadata": {},
   "outputs": [],
   "source": [
    "regr_model = LinearRegression()\n",
    "regr_model.fit(X_train,y_train)\n",
    "y_pred = regr_model.predict(X_test)"
   ]
  },
  {
   "cell_type": "code",
   "execution_count": 12,
   "metadata": {},
   "outputs": [
    {
     "name": "stdout",
     "output_type": "stream",
     "text": [
      "Score: -0.03140122551476332\n",
      "Mean Absolute Error: 0.11273898761453433\n",
      "Mean Squared Error: 0.016674740981322343\n",
      "Root Mean Squared Error: 0.12913071277322968\n"
     ]
    }
   ],
   "source": [
    "print(\"Score:\", regr_model.score(X_test, y_test))\n",
    "print('Mean Absolute Error:', metrics.mean_absolute_error(y_test, y_pred))  \n",
    "print('Mean Squared Error:', metrics.mean_squared_error(y_test, y_pred))  \n",
    "print('Root Mean Squared Error:', np.sqrt(metrics.mean_squared_error(y_test, y_pred)))"
   ]
  },
  {
   "cell_type": "markdown",
   "metadata": {},
   "source": [
    "### Gradient Boosting Regressor"
   ]
  },
  {
   "cell_type": "code",
   "execution_count": 13,
   "metadata": {},
   "outputs": [
    {
     "data": {
      "text/plain": [
       "GradientBoostingRegressor(learning_rate=0.01, loss='huber', max_depth=4,\n",
       "                          min_samples_leaf=15, min_samples_split=10,\n",
       "                          n_estimators=15000, random_state=5)"
      ]
     },
     "execution_count": 13,
     "metadata": {},
     "output_type": "execute_result"
    }
   ],
   "source": [
    "gbm_model = ensemble.GradientBoostingRegressor(n_estimators=15000, max_depth=4, min_samples_leaf=15, \n",
    "                                           min_samples_split=10, learning_rate=0.01, loss='huber', random_state=5)\n",
    "\n",
    "# Reshape train_target to be a 1d array\n",
    "#y_train = y_train.as_matrix().flatten()\n",
    "\n",
    "# Fit model\n",
    "gbm_model.fit(X_train, y_train)"
   ]
  },
  {
   "cell_type": "code",
   "execution_count": 14,
   "metadata": {},
   "outputs": [],
   "source": [
    "# Make predictions with model\n",
    "y_pred = gbm_model.predict(X_test)\n"
   ]
  },
  {
   "cell_type": "code",
   "execution_count": 15,
   "metadata": {},
   "outputs": [
    {
     "name": "stdout",
     "output_type": "stream",
     "text": [
      "Score: -0.23182405262349204\n",
      "Mean Absolute Error: 0.1193983799641853\n",
      "Mean Squared Error: 0.019914991861492124\n",
      "Root Mean Squared Error: 0.1411204870367592\n"
     ]
    }
   ],
   "source": [
    "print(\"Score:\", gbm_model.score(X_test, y_test))\n",
    "print('Mean Absolute Error:', metrics.mean_absolute_error(y_test, y_pred))  \n",
    "print('Mean Squared Error:', metrics.mean_squared_error(y_test, y_pred))  \n",
    "print('Root Mean Squared Error:', np.sqrt(metrics.mean_squared_error(y_test, y_pred)))"
   ]
  },
  {
   "cell_type": "code",
   "execution_count": null,
   "metadata": {},
   "outputs": [],
   "source": []
  }
 ],
 "metadata": {
  "kernelspec": {
   "display_name": "Python 3",
   "language": "python",
   "name": "python3"
  },
  "language_info": {
   "codemirror_mode": {
    "name": "ipython",
    "version": 3
   },
   "file_extension": ".py",
   "mimetype": "text/x-python",
   "name": "python",
   "nbconvert_exporter": "python",
   "pygments_lexer": "ipython3",
   "version": "3.7.4"
  }
 },
 "nbformat": 4,
 "nbformat_minor": 2
}
