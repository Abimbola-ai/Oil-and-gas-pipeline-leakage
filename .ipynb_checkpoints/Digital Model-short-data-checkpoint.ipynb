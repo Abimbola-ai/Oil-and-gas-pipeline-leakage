{
 "cells": [
  {
   "cell_type": "code",
   "execution_count": 1,
   "metadata": {},
   "outputs": [
    {
     "name": "stderr",
     "output_type": "stream",
     "text": [
      "/Applications/anaconda3/lib/python3.7/site-packages/statsmodels/tools/_testing.py:19: FutureWarning: pandas.util.testing is deprecated. Use the functions in the public API at pandas.testing instead.\n",
      "  import pandas.util.testing as tm\n"
     ]
    }
   ],
   "source": [
    "# Import necessary library\n",
    "import pandas as pd\n",
    "import numpy as np\n",
    "import matplotlib.pyplot as plt\n",
    "import seaborn as sns\n",
    "import os\n",
    "\n",
    "from sklearn.model_selection import train_test_split \n",
    "from sklearn.preprocessing import StandardScaler, MinMaxScaler\n",
    "from sklearn import ensemble\n",
    "from sklearn.linear_model import LinearRegression\n",
    "from sklearn.metrics import mean_squared_error\n",
    "from sklearn import metrics\n",
    "from math import sqrt\n",
    "\n",
    "%matplotlib inline"
   ]
  },
  {
   "cell_type": "code",
   "execution_count": 2,
   "metadata": {},
   "outputs": [
    {
     "data": {
      "text/html": [
       "<div>\n",
       "<style scoped>\n",
       "    .dataframe tbody tr th:only-of-type {\n",
       "        vertical-align: middle;\n",
       "    }\n",
       "\n",
       "    .dataframe tbody tr th {\n",
       "        vertical-align: top;\n",
       "    }\n",
       "\n",
       "    .dataframe thead th {\n",
       "        text-align: right;\n",
       "    }\n",
       "</style>\n",
       "<table border=\"1\" class=\"dataframe\">\n",
       "  <thead>\n",
       "    <tr style=\"text-align: right;\">\n",
       "      <th></th>\n",
       "      <th>Wellhead Temp. (C)</th>\n",
       "      <th>Wellhead Press (psi)</th>\n",
       "      <th>MMCFD- gas</th>\n",
       "      <th>BOPD (barrel of oil produced per day)</th>\n",
       "      <th>BWPD (barrel of water produced per day)</th>\n",
       "      <th>BSW - basic solid and water (%)</th>\n",
       "      <th>CO2 mol. (%) @ 25 C &amp; 1 Atm.</th>\n",
       "      <th>Gas Grav.</th>\n",
       "      <th>CR-corrosion defect</th>\n",
       "    </tr>\n",
       "  </thead>\n",
       "  <tbody>\n",
       "    <tr>\n",
       "      <th>0</th>\n",
       "      <td>53.35</td>\n",
       "      <td>1105.13</td>\n",
       "      <td>12.87</td>\n",
       "      <td>1378.93</td>\n",
       "      <td>2812.62</td>\n",
       "      <td>75.64</td>\n",
       "      <td>3.3628</td>\n",
       "      <td>0.7205</td>\n",
       "      <td>0.2245</td>\n",
       "    </tr>\n",
       "    <tr>\n",
       "      <th>1</th>\n",
       "      <td>72.25</td>\n",
       "      <td>1026.31</td>\n",
       "      <td>3.42</td>\n",
       "      <td>1028.75</td>\n",
       "      <td>919.92</td>\n",
       "      <td>44.21</td>\n",
       "      <td>3.8679</td>\n",
       "      <td>0.8940</td>\n",
       "      <td>0.2262</td>\n",
       "    </tr>\n",
       "    <tr>\n",
       "      <th>2</th>\n",
       "      <td>65.08</td>\n",
       "      <td>722.96</td>\n",
       "      <td>6.23</td>\n",
       "      <td>2017.92</td>\n",
       "      <td>1212.42</td>\n",
       "      <td>17.55</td>\n",
       "      <td>2.3552</td>\n",
       "      <td>0.7661</td>\n",
       "      <td>0.2305</td>\n",
       "    </tr>\n",
       "    <tr>\n",
       "      <th>3</th>\n",
       "      <td>60.71</td>\n",
       "      <td>1557.23</td>\n",
       "      <td>11.71</td>\n",
       "      <td>558.22</td>\n",
       "      <td>1716.09</td>\n",
       "      <td>65.79</td>\n",
       "      <td>1.7253</td>\n",
       "      <td>0.7738</td>\n",
       "      <td>0.2303</td>\n",
       "    </tr>\n",
       "    <tr>\n",
       "      <th>4</th>\n",
       "      <td>46.19</td>\n",
       "      <td>1304.42</td>\n",
       "      <td>8.58</td>\n",
       "      <td>1280.47</td>\n",
       "      <td>1929.22</td>\n",
       "      <td>37.45</td>\n",
       "      <td>1.8327</td>\n",
       "      <td>0.7611</td>\n",
       "      <td>0.2202</td>\n",
       "    </tr>\n",
       "  </tbody>\n",
       "</table>\n",
       "</div>"
      ],
      "text/plain": [
       "   Wellhead Temp. (C)  Wellhead Press (psi)  MMCFD- gas  \\\n",
       "0               53.35               1105.13       12.87   \n",
       "1               72.25               1026.31        3.42   \n",
       "2               65.08                722.96        6.23   \n",
       "3               60.71               1557.23       11.71   \n",
       "4               46.19               1304.42        8.58   \n",
       "\n",
       "   BOPD (barrel of oil produced per day)  \\\n",
       "0                                1378.93   \n",
       "1                                1028.75   \n",
       "2                                2017.92   \n",
       "3                                 558.22   \n",
       "4                                1280.47   \n",
       "\n",
       "   BWPD (barrel of water produced per day)  BSW - basic solid and water (%)  \\\n",
       "0                                  2812.62                            75.64   \n",
       "1                                   919.92                            44.21   \n",
       "2                                  1212.42                            17.55   \n",
       "3                                  1716.09                            65.79   \n",
       "4                                  1929.22                            37.45   \n",
       "\n",
       "   CO2 mol. (%) @ 25 C & 1 Atm.  Gas Grav.  CR-corrosion defect  \n",
       "0                        3.3628     0.7205               0.2245  \n",
       "1                        3.8679     0.8940               0.2262  \n",
       "2                        2.3552     0.7661               0.2305  \n",
       "3                        1.7253     0.7738               0.2303  \n",
       "4                        1.8327     0.7611               0.2202  "
      ]
     },
     "execution_count": 2,
     "metadata": {},
     "output_type": "execute_result"
    }
   ],
   "source": [
    "data = pd.read_csv('generated_dataset.csv')\n",
    "data.head()"
   ]
  },
  {
   "cell_type": "code",
   "execution_count": 3,
   "metadata": {},
   "outputs": [
    {
     "name": "stdout",
     "output_type": "stream",
     "text": [
      "<class 'pandas.core.frame.DataFrame'>\n",
      "RangeIndex: 10292 entries, 0 to 10291\n",
      "Data columns (total 9 columns):\n",
      " #   Column                                   Non-Null Count  Dtype  \n",
      "---  ------                                   --------------  -----  \n",
      " 0   Wellhead Temp. (C)                       10292 non-null  float64\n",
      " 1   Wellhead Press (psi)                     10292 non-null  float64\n",
      " 2   MMCFD- gas                               10292 non-null  float64\n",
      " 3   BOPD (barrel of oil produced per day)    10292 non-null  float64\n",
      " 4   BWPD (barrel of water produced per day)  10292 non-null  float64\n",
      " 5   BSW - basic solid and water (%)          10292 non-null  float64\n",
      " 6   CO2 mol. (%) @ 25 C & 1 Atm.             10292 non-null  float64\n",
      " 7   Gas Grav.                                10292 non-null  float64\n",
      " 8   CR-corrosion defect                      10292 non-null  float64\n",
      "dtypes: float64(9)\n",
      "memory usage: 723.8 KB\n"
     ]
    }
   ],
   "source": [
    "# Check data types\n",
    "data.info()"
   ]
  },
  {
   "cell_type": "code",
   "execution_count": 4,
   "metadata": {},
   "outputs": [
    {
     "data": {
      "text/html": [
       "<div>\n",
       "<style scoped>\n",
       "    .dataframe tbody tr th:only-of-type {\n",
       "        vertical-align: middle;\n",
       "    }\n",
       "\n",
       "    .dataframe tbody tr th {\n",
       "        vertical-align: top;\n",
       "    }\n",
       "\n",
       "    .dataframe thead th {\n",
       "        text-align: right;\n",
       "    }\n",
       "</style>\n",
       "<table border=\"1\" class=\"dataframe\">\n",
       "  <thead>\n",
       "    <tr style=\"text-align: right;\">\n",
       "      <th></th>\n",
       "      <th>Wellhead Temp. (C)</th>\n",
       "      <th>Wellhead Press (psi)</th>\n",
       "      <th>MMCFD- gas</th>\n",
       "      <th>BOPD (barrel of oil produced per day)</th>\n",
       "      <th>BWPD (barrel of water produced per day)</th>\n",
       "      <th>BSW - basic solid and water (%)</th>\n",
       "      <th>CO2 mol. (%) @ 25 C &amp; 1 Atm.</th>\n",
       "      <th>Gas Grav.</th>\n",
       "      <th>CR-corrosion defect</th>\n",
       "    </tr>\n",
       "  </thead>\n",
       "  <tbody>\n",
       "    <tr>\n",
       "      <th>count</th>\n",
       "      <td>10292.000000</td>\n",
       "      <td>10292.000000</td>\n",
       "      <td>10292.000000</td>\n",
       "      <td>10292.000000</td>\n",
       "      <td>10292.000000</td>\n",
       "      <td>10292.000000</td>\n",
       "      <td>10292.000000</td>\n",
       "      <td>10292.000000</td>\n",
       "      <td>10292.000000</td>\n",
       "    </tr>\n",
       "    <tr>\n",
       "      <th>mean</th>\n",
       "      <td>57.352401</td>\n",
       "      <td>1361.783583</td>\n",
       "      <td>8.851533</td>\n",
       "      <td>1103.563396</td>\n",
       "      <td>4636.556014</td>\n",
       "      <td>44.876740</td>\n",
       "      <td>2.502574</td>\n",
       "      <td>0.821436</td>\n",
       "      <td>0.211285</td>\n",
       "    </tr>\n",
       "    <tr>\n",
       "      <th>std</th>\n",
       "      <td>9.423529</td>\n",
       "      <td>559.275420</td>\n",
       "      <td>4.968737</td>\n",
       "      <td>565.392744</td>\n",
       "      <td>2685.799834</td>\n",
       "      <td>25.710558</td>\n",
       "      <td>1.041002</td>\n",
       "      <td>0.063142</td>\n",
       "      <td>0.037283</td>\n",
       "    </tr>\n",
       "    <tr>\n",
       "      <th>min</th>\n",
       "      <td>41.070000</td>\n",
       "      <td>382.080000</td>\n",
       "      <td>0.230000</td>\n",
       "      <td>129.470000</td>\n",
       "      <td>40.610000</td>\n",
       "      <td>0.130000</td>\n",
       "      <td>0.678600</td>\n",
       "      <td>0.711100</td>\n",
       "      <td>0.000900</td>\n",
       "    </tr>\n",
       "    <tr>\n",
       "      <th>25%</th>\n",
       "      <td>49.220000</td>\n",
       "      <td>880.000000</td>\n",
       "      <td>4.570000</td>\n",
       "      <td>611.645000</td>\n",
       "      <td>2295.520000</td>\n",
       "      <td>22.887500</td>\n",
       "      <td>1.608650</td>\n",
       "      <td>0.766800</td>\n",
       "      <td>0.192100</td>\n",
       "    </tr>\n",
       "    <tr>\n",
       "      <th>50%</th>\n",
       "      <td>57.360000</td>\n",
       "      <td>1364.900000</td>\n",
       "      <td>8.880000</td>\n",
       "      <td>1106.085000</td>\n",
       "      <td>4591.995000</td>\n",
       "      <td>45.075000</td>\n",
       "      <td>2.518100</td>\n",
       "      <td>0.821600</td>\n",
       "      <td>0.213500</td>\n",
       "    </tr>\n",
       "    <tr>\n",
       "      <th>75%</th>\n",
       "      <td>65.412500</td>\n",
       "      <td>1848.252500</td>\n",
       "      <td>13.090000</td>\n",
       "      <td>1589.710000</td>\n",
       "      <td>6997.442500</td>\n",
       "      <td>67.212500</td>\n",
       "      <td>3.406125</td>\n",
       "      <td>0.876300</td>\n",
       "      <td>0.232800</td>\n",
       "    </tr>\n",
       "    <tr>\n",
       "      <th>max</th>\n",
       "      <td>73.870000</td>\n",
       "      <td>2317.230000</td>\n",
       "      <td>17.540000</td>\n",
       "      <td>2087.430000</td>\n",
       "      <td>9314.260000</td>\n",
       "      <td>89.260000</td>\n",
       "      <td>4.298200</td>\n",
       "      <td>0.931900</td>\n",
       "      <td>0.405200</td>\n",
       "    </tr>\n",
       "  </tbody>\n",
       "</table>\n",
       "</div>"
      ],
      "text/plain": [
       "       Wellhead Temp. (C)  Wellhead Press (psi)    MMCFD- gas  \\\n",
       "count        10292.000000          10292.000000  10292.000000   \n",
       "mean            57.352401           1361.783583      8.851533   \n",
       "std              9.423529            559.275420      4.968737   \n",
       "min             41.070000            382.080000      0.230000   \n",
       "25%             49.220000            880.000000      4.570000   \n",
       "50%             57.360000           1364.900000      8.880000   \n",
       "75%             65.412500           1848.252500     13.090000   \n",
       "max             73.870000           2317.230000     17.540000   \n",
       "\n",
       "       BOPD (barrel of oil produced per day)  \\\n",
       "count                           10292.000000   \n",
       "mean                             1103.563396   \n",
       "std                               565.392744   \n",
       "min                               129.470000   \n",
       "25%                               611.645000   \n",
       "50%                              1106.085000   \n",
       "75%                              1589.710000   \n",
       "max                              2087.430000   \n",
       "\n",
       "       BWPD (barrel of water produced per day)  \\\n",
       "count                             10292.000000   \n",
       "mean                               4636.556014   \n",
       "std                                2685.799834   \n",
       "min                                  40.610000   \n",
       "25%                                2295.520000   \n",
       "50%                                4591.995000   \n",
       "75%                                6997.442500   \n",
       "max                                9314.260000   \n",
       "\n",
       "       BSW - basic solid and water (%)  CO2 mol. (%) @ 25 C & 1 Atm.  \\\n",
       "count                     10292.000000                  10292.000000   \n",
       "mean                         44.876740                      2.502574   \n",
       "std                          25.710558                      1.041002   \n",
       "min                           0.130000                      0.678600   \n",
       "25%                          22.887500                      1.608650   \n",
       "50%                          45.075000                      2.518100   \n",
       "75%                          67.212500                      3.406125   \n",
       "max                          89.260000                      4.298200   \n",
       "\n",
       "          Gas Grav.  CR-corrosion defect  \n",
       "count  10292.000000         10292.000000  \n",
       "mean       0.821436             0.211285  \n",
       "std        0.063142             0.037283  \n",
       "min        0.711100             0.000900  \n",
       "25%        0.766800             0.192100  \n",
       "50%        0.821600             0.213500  \n",
       "75%        0.876300             0.232800  \n",
       "max        0.931900             0.405200  "
      ]
     },
     "execution_count": 4,
     "metadata": {},
     "output_type": "execute_result"
    }
   ],
   "source": [
    "# Descriptive statistics\n",
    "data.describe()"
   ]
  },
  {
   "cell_type": "code",
   "execution_count": 5,
   "metadata": {},
   "outputs": [
    {
     "data": {
      "text/plain": [
       "Wellhead Temp. (C)                         0\n",
       "Wellhead Press (psi)                       0\n",
       "MMCFD- gas                                 0\n",
       "BOPD (barrel of oil produced per day)      0\n",
       "BWPD (barrel of water produced per day)    0\n",
       "BSW - basic solid and water (%)            0\n",
       "CO2 mol. (%) @ 25 C & 1 Atm.               0\n",
       "Gas Grav.                                  0\n",
       "CR-corrosion defect                        0\n",
       "dtype: int64"
      ]
     },
     "execution_count": 5,
     "metadata": {},
     "output_type": "execute_result"
    }
   ],
   "source": [
    "# Check for missing values\n",
    "data.isnull().sum()"
   ]
  },
  {
   "cell_type": "code",
   "execution_count": 21,
   "metadata": {},
   "outputs": [],
   "source": [
    "# Perform some graphical analysis on the data\n",
    "# from scipy.stats import norm\n",
    "# ax = sns.pairplot(data)"
   ]
  },
  {
   "cell_type": "markdown",
   "metadata": {},
   "source": [
    "## Data Modeling"
   ]
  },
  {
   "cell_type": "code",
   "execution_count": 22,
   "metadata": {},
   "outputs": [],
   "source": [
    "X = data.iloc[:,0:8].values\n",
    "y = data.iloc[:,8]\n",
    "X = MinMaxScaler().fit_transform(X)"
   ]
  },
  {
   "cell_type": "code",
   "execution_count": 23,
   "metadata": {},
   "outputs": [
    {
     "data": {
      "text/plain": [
       "array([[0.37439024, 0.37364029, 0.73021375, ..., 0.8471895 , 0.74157365,\n",
       "        0.04257246],\n",
       "       [0.95060976, 0.33290959, 0.18428654, ..., 0.49455851, 0.88111946,\n",
       "        0.82835145],\n",
       "       [0.7320122 , 0.17615172, 0.34662045, ..., 0.19544486, 0.46320035,\n",
       "        0.2490942 ],\n",
       "       ...,\n",
       "       [0.39512195, 0.98430613, 0.073368  , ..., 0.08650286, 0.85031495,\n",
       "        0.85144928],\n",
       "       [0.14085366, 0.6676485 , 0.18428654, ..., 0.25748906, 0.86343795,\n",
       "        0.3754529 ],\n",
       "       [0.67804878, 0.89966152, 0.16117851, ..., 0.73465724, 0.69585037,\n",
       "        0.20561594]])"
      ]
     },
     "execution_count": 23,
     "metadata": {},
     "output_type": "execute_result"
    }
   ],
   "source": [
    "X"
   ]
  },
  {
   "cell_type": "code",
   "execution_count": 24,
   "metadata": {},
   "outputs": [
    {
     "data": {
      "text/plain": [
       "0        0.2245\n",
       "1        0.2262\n",
       "2        0.2305\n",
       "3        0.2303\n",
       "4        0.2202\n",
       "          ...  \n",
       "10287    0.0031\n",
       "10288    0.0027\n",
       "10289    0.0027\n",
       "10290    0.0022\n",
       "10291    0.0009\n",
       "Name: CR-corrosion defect, Length: 10292, dtype: float64"
      ]
     },
     "execution_count": 24,
     "metadata": {},
     "output_type": "execute_result"
    }
   ],
   "source": [
    "y"
   ]
  },
  {
   "cell_type": "code",
   "execution_count": 25,
   "metadata": {},
   "outputs": [
    {
     "name": "stdout",
     "output_type": "stream",
     "text": [
      "(8233, 8) (2059, 8)\n"
     ]
    }
   ],
   "source": [
    "# Splitting the dataset into the Training set and Test set\n",
    "X_train, X_test, y_train, y_test = train_test_split(X, y, test_size=0.2, random_state=42)\n",
    "print(X_train.shape,X_test.shape)"
   ]
  },
  {
   "cell_type": "markdown",
   "metadata": {},
   "source": [
    "### Create a baseline linear regression model"
   ]
  },
  {
   "cell_type": "code",
   "execution_count": 26,
   "metadata": {},
   "outputs": [],
   "source": [
    "regr_model = LinearRegression()\n",
    "regr_model.fit(X_train,y_train)\n",
    "y_pred = regr_model.predict(X_test)"
   ]
  },
  {
   "cell_type": "code",
   "execution_count": 29,
   "metadata": {},
   "outputs": [
    {
     "name": "stdout",
     "output_type": "stream",
     "text": [
      "Score: 0.2055109185528412\n",
      "Mean Absolute Error: 0.02298731180514156\n",
      "Mean Squared Error: 0.0011402477220824557\n",
      "Root Mean Squared Error: 0.03376755428043991\n"
     ]
    }
   ],
   "source": [
    "print(\"Score:\", regr_model.score(X_test, y_test))\n",
    "print('Mean Absolute Error:', metrics.mean_absolute_error(y_test, y_pred))  \n",
    "print('Mean Squared Error:', metrics.mean_squared_error(y_test, y_pred))  \n",
    "print('Root Mean Squared Error:', np.sqrt(metrics.mean_squared_error(y_test, y_pred)))"
   ]
  },
  {
   "cell_type": "markdown",
   "metadata": {},
   "source": [
    "### Gradient Boosting Regressor"
   ]
  },
  {
   "cell_type": "code",
   "execution_count": 30,
   "metadata": {},
   "outputs": [
    {
     "data": {
      "text/plain": [
       "GradientBoostingRegressor(learning_rate=0.01, loss='huber', max_depth=4,\n",
       "                          min_samples_leaf=15, min_samples_split=10,\n",
       "                          n_estimators=15000, random_state=5)"
      ]
     },
     "execution_count": 30,
     "metadata": {},
     "output_type": "execute_result"
    }
   ],
   "source": [
    "gbm_model = ensemble.GradientBoostingRegressor(n_estimators=15000, max_depth=4, min_samples_leaf=15, \n",
    "                                           min_samples_split=10, learning_rate=0.01, loss='huber', random_state=5)\n",
    "\n",
    "# Reshape train_target to be a 1d array\n",
    "#y_train = y_train.as_matrix().flatten()\n",
    "\n",
    "# Fit model\n",
    "gbm_model.fit(X_train, y_train)"
   ]
  },
  {
   "cell_type": "code",
   "execution_count": 31,
   "metadata": {},
   "outputs": [],
   "source": [
    "# Make predictions with model\n",
    "y_pred = gbm_model.predict(X_test)\n"
   ]
  },
  {
   "cell_type": "code",
   "execution_count": 32,
   "metadata": {},
   "outputs": [
    {
     "name": "stdout",
     "output_type": "stream",
     "text": [
      "Score: 0.6717850156748474\n",
      "Mean Absolute Error: 0.006246960586793584\n",
      "Mean Squared Error: 0.0004710529030158549\n",
      "Root Mean Squared Error: 0.021703753201136777\n"
     ]
    }
   ],
   "source": [
    "print(\"Score:\", gbm_model.score(X_test, y_test))\n",
    "print('Mean Absolute Error:', metrics.mean_absolute_error(y_test, y_pred))  \n",
    "print('Mean Squared Error:', metrics.mean_squared_error(y_test, y_pred))  \n",
    "print('Root Mean Squared Error:', np.sqrt(metrics.mean_squared_error(y_test, y_pred)))"
   ]
  },
  {
   "cell_type": "code",
   "execution_count": null,
   "metadata": {},
   "outputs": [],
   "source": []
  }
 ],
 "metadata": {
  "kernelspec": {
   "display_name": "Python 3",
   "language": "python",
   "name": "python3"
  },
  "language_info": {
   "codemirror_mode": {
    "name": "ipython",
    "version": 3
   },
   "file_extension": ".py",
   "mimetype": "text/x-python",
   "name": "python",
   "nbconvert_exporter": "python",
   "pygments_lexer": "ipython3",
   "version": "3.7.4"
  }
 },
 "nbformat": 4,
 "nbformat_minor": 2
}
