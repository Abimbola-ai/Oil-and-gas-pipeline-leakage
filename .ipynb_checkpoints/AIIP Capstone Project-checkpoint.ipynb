{
 "cells": [
  {
   "cell_type": "code",
   "execution_count": 122,
   "metadata": {},
   "outputs": [],
   "source": [
    "# Import necessary library\n",
    "import pandas as pd\n",
    "import numpy as np\n",
    "import matplotlib.pyplot as plt\n",
    "import seaborn as sns\n",
    "import os\n",
    "from sklearn.model_selection import train_test_split \n",
    "from sklearn.preprocessing import StandardScaler, MinMaxScaler\n",
    "from sklearn import ensemble\n",
    "from sklearn.linear_model import LinearRegression\n",
    "from sklearn.metrics import mean_squared_error\n",
    "from sklearn import metrics\n",
    "from math import sqrt\n",
    "from sklearn.svm import SVC\n",
    "import matplotlib.pyplot as plt\n",
    "from sklearn import linear_model\n",
    "from sklearn.utils import resample\n",
    "from sklearn.decomposition import PCA\n",
    "from sklearn.pipeline import Pipeline\n",
    "from sklearn.tree import DecisionTreeClassifier\n",
    "from sklearn.neural_network import MLPClassifier\n",
    "from sklearn.preprocessing import StandardScaler\n",
    "from sklearn.ensemble import RandomForestClassifier\n",
    "from sklearn.model_selection import train_test_split\n",
    "from sklearn.metrics import roc_curve,roc_auc_score\n",
    "from sklearn.metrics import confusion_matrix, f1_score,classification_report\n",
    "from sklearn.model_selection import GridSearchCV\n",
    "import matplotlib.pyplot as plt\n",
    "from sklearn import datasets\n",
    "from sklearn.model_selection import train_test_split\n",
    "from sklearn.preprocessing import label_binarize\n",
    "from sklearn.metrics import roc_curve, auc\n",
    "from sklearn.multiclass import OneVsRestClassifier\n",
    "from sklearn.tree import DecisionTreeClassifier\n",
    "from sklearn.preprocessing import label_binarize\n",
    "from sklearn.metrics import roc_curve, auc\n",
    "from sklearn.multiclass import OneVsRestClassifier\n",
    "from itertools import cycle\n",
    "plt.style.use('ggplot')\n",
    "import warnings\n",
    "warnings.filterwarnings(\"ignore\")\n",
    "%matplotlib inline"
   ]
  },
  {
   "cell_type": "code",
   "execution_count": 123,
   "metadata": {},
   "outputs": [
    {
     "data": {
      "text/html": [
       "<div>\n",
       "<style scoped>\n",
       "    .dataframe tbody tr th:only-of-type {\n",
       "        vertical-align: middle;\n",
       "    }\n",
       "\n",
       "    .dataframe tbody tr th {\n",
       "        vertical-align: top;\n",
       "    }\n",
       "\n",
       "    .dataframe thead th {\n",
       "        text-align: right;\n",
       "    }\n",
       "</style>\n",
       "<table border=\"1\" class=\"dataframe\">\n",
       "  <thead>\n",
       "    <tr style=\"text-align: right;\">\n",
       "      <th></th>\n",
       "      <th>Wellhead Temp. (C)</th>\n",
       "      <th>Wellhead Press (psi)</th>\n",
       "      <th>MMCFD- gas</th>\n",
       "      <th>BOPD (barrel of oil produced per day)</th>\n",
       "      <th>BWPD (barrel of water produced per day)</th>\n",
       "      <th>BSW - basic solid and water (%)</th>\n",
       "      <th>CO2 mol. (%) @ 25 C &amp; 1 Atm.</th>\n",
       "      <th>Gas Grav.</th>\n",
       "      <th>CR-corrosion defect</th>\n",
       "    </tr>\n",
       "  </thead>\n",
       "  <tbody>\n",
       "    <tr>\n",
       "      <th>0</th>\n",
       "      <td>53.35</td>\n",
       "      <td>1105.13</td>\n",
       "      <td>12.87</td>\n",
       "      <td>1378.93</td>\n",
       "      <td>2812.62</td>\n",
       "      <td>75.64</td>\n",
       "      <td>3.3628</td>\n",
       "      <td>0.7205</td>\n",
       "      <td>0.2245</td>\n",
       "    </tr>\n",
       "    <tr>\n",
       "      <th>1</th>\n",
       "      <td>72.25</td>\n",
       "      <td>1026.31</td>\n",
       "      <td>3.42</td>\n",
       "      <td>1028.75</td>\n",
       "      <td>919.92</td>\n",
       "      <td>44.21</td>\n",
       "      <td>3.8679</td>\n",
       "      <td>0.8940</td>\n",
       "      <td>0.2262</td>\n",
       "    </tr>\n",
       "    <tr>\n",
       "      <th>2</th>\n",
       "      <td>65.08</td>\n",
       "      <td>722.96</td>\n",
       "      <td>6.23</td>\n",
       "      <td>2017.92</td>\n",
       "      <td>1212.42</td>\n",
       "      <td>17.55</td>\n",
       "      <td>2.3552</td>\n",
       "      <td>0.7661</td>\n",
       "      <td>0.2305</td>\n",
       "    </tr>\n",
       "    <tr>\n",
       "      <th>3</th>\n",
       "      <td>60.71</td>\n",
       "      <td>1557.23</td>\n",
       "      <td>11.71</td>\n",
       "      <td>558.22</td>\n",
       "      <td>1716.09</td>\n",
       "      <td>65.79</td>\n",
       "      <td>1.7253</td>\n",
       "      <td>0.7738</td>\n",
       "      <td>0.2303</td>\n",
       "    </tr>\n",
       "    <tr>\n",
       "      <th>4</th>\n",
       "      <td>46.19</td>\n",
       "      <td>1304.42</td>\n",
       "      <td>8.58</td>\n",
       "      <td>1280.47</td>\n",
       "      <td>1929.22</td>\n",
       "      <td>37.45</td>\n",
       "      <td>1.8327</td>\n",
       "      <td>0.7611</td>\n",
       "      <td>0.2202</td>\n",
       "    </tr>\n",
       "  </tbody>\n",
       "</table>\n",
       "</div>"
      ],
      "text/plain": [
       "   Wellhead Temp. (C)  Wellhead Press (psi)  MMCFD- gas  \\\n",
       "0               53.35               1105.13       12.87   \n",
       "1               72.25               1026.31        3.42   \n",
       "2               65.08                722.96        6.23   \n",
       "3               60.71               1557.23       11.71   \n",
       "4               46.19               1304.42        8.58   \n",
       "\n",
       "   BOPD (barrel of oil produced per day)  \\\n",
       "0                                1378.93   \n",
       "1                                1028.75   \n",
       "2                                2017.92   \n",
       "3                                 558.22   \n",
       "4                                1280.47   \n",
       "\n",
       "   BWPD (barrel of water produced per day)  BSW - basic solid and water (%)  \\\n",
       "0                                  2812.62                            75.64   \n",
       "1                                   919.92                            44.21   \n",
       "2                                  1212.42                            17.55   \n",
       "3                                  1716.09                            65.79   \n",
       "4                                  1929.22                            37.45   \n",
       "\n",
       "   CO2 mol. (%) @ 25 C & 1 Atm.  Gas Grav.  CR-corrosion defect  \n",
       "0                        3.3628     0.7205               0.2245  \n",
       "1                        3.8679     0.8940               0.2262  \n",
       "2                        2.3552     0.7661               0.2305  \n",
       "3                        1.7253     0.7738               0.2303  \n",
       "4                        1.8327     0.7611               0.2202  "
      ]
     },
     "execution_count": 123,
     "metadata": {},
     "output_type": "execute_result"
    }
   ],
   "source": [
    "data = pd.read_csv('https://raw.githubusercontent.com/Abimbola-ai/Oil-and-gas-pipeline-leakage/main/generated_dataset.csv')\n",
    "data.head()"
   ]
  },
  {
   "cell_type": "code",
   "execution_count": 124,
   "metadata": {},
   "outputs": [
    {
     "data": {
      "text/html": [
       "<div>\n",
       "<style scoped>\n",
       "    .dataframe tbody tr th:only-of-type {\n",
       "        vertical-align: middle;\n",
       "    }\n",
       "\n",
       "    .dataframe tbody tr th {\n",
       "        vertical-align: top;\n",
       "    }\n",
       "\n",
       "    .dataframe thead th {\n",
       "        text-align: right;\n",
       "    }\n",
       "</style>\n",
       "<table border=\"1\" class=\"dataframe\">\n",
       "  <thead>\n",
       "    <tr style=\"text-align: right;\">\n",
       "      <th></th>\n",
       "      <th>Wellhead Temp. (C)</th>\n",
       "      <th>Wellhead Press (psi)</th>\n",
       "      <th>MMCFD- gas</th>\n",
       "      <th>BOPD (barrel of oil produced per day)</th>\n",
       "      <th>BWPD (barrel of water produced per day)</th>\n",
       "      <th>BSW - basic solid and water (%)</th>\n",
       "      <th>CO2 mol. (%) @ 25 C &amp; 1 Atm.</th>\n",
       "      <th>Gas Grav.</th>\n",
       "      <th>CR-corrosion defect</th>\n",
       "      <th>CRDC</th>\n",
       "      <th>CRD</th>\n",
       "    </tr>\n",
       "  </thead>\n",
       "  <tbody>\n",
       "    <tr>\n",
       "      <th>0</th>\n",
       "      <td>53.35</td>\n",
       "      <td>1105.13</td>\n",
       "      <td>12.87</td>\n",
       "      <td>1378.93</td>\n",
       "      <td>2812.62</td>\n",
       "      <td>75.64</td>\n",
       "      <td>3.3628</td>\n",
       "      <td>0.7205</td>\n",
       "      <td>0.2245</td>\n",
       "      <td>0.2245</td>\n",
       "      <td>0.2245</td>\n",
       "    </tr>\n",
       "    <tr>\n",
       "      <th>1</th>\n",
       "      <td>72.25</td>\n",
       "      <td>1026.31</td>\n",
       "      <td>3.42</td>\n",
       "      <td>1028.75</td>\n",
       "      <td>919.92</td>\n",
       "      <td>44.21</td>\n",
       "      <td>3.8679</td>\n",
       "      <td>0.8940</td>\n",
       "      <td>0.2262</td>\n",
       "      <td>0.2262</td>\n",
       "      <td>0.2262</td>\n",
       "    </tr>\n",
       "    <tr>\n",
       "      <th>2</th>\n",
       "      <td>65.08</td>\n",
       "      <td>722.96</td>\n",
       "      <td>6.23</td>\n",
       "      <td>2017.92</td>\n",
       "      <td>1212.42</td>\n",
       "      <td>17.55</td>\n",
       "      <td>2.3552</td>\n",
       "      <td>0.7661</td>\n",
       "      <td>0.2305</td>\n",
       "      <td>0.2305</td>\n",
       "      <td>0.2305</td>\n",
       "    </tr>\n",
       "    <tr>\n",
       "      <th>3</th>\n",
       "      <td>60.71</td>\n",
       "      <td>1557.23</td>\n",
       "      <td>11.71</td>\n",
       "      <td>558.22</td>\n",
       "      <td>1716.09</td>\n",
       "      <td>65.79</td>\n",
       "      <td>1.7253</td>\n",
       "      <td>0.7738</td>\n",
       "      <td>0.2303</td>\n",
       "      <td>0.2303</td>\n",
       "      <td>0.2303</td>\n",
       "    </tr>\n",
       "    <tr>\n",
       "      <th>4</th>\n",
       "      <td>46.19</td>\n",
       "      <td>1304.42</td>\n",
       "      <td>8.58</td>\n",
       "      <td>1280.47</td>\n",
       "      <td>1929.22</td>\n",
       "      <td>37.45</td>\n",
       "      <td>1.8327</td>\n",
       "      <td>0.7611</td>\n",
       "      <td>0.2202</td>\n",
       "      <td>0.2202</td>\n",
       "      <td>0.2202</td>\n",
       "    </tr>\n",
       "  </tbody>\n",
       "</table>\n",
       "</div>"
      ],
      "text/plain": [
       "   Wellhead Temp. (C)  Wellhead Press (psi)  MMCFD- gas  \\\n",
       "0               53.35               1105.13       12.87   \n",
       "1               72.25               1026.31        3.42   \n",
       "2               65.08                722.96        6.23   \n",
       "3               60.71               1557.23       11.71   \n",
       "4               46.19               1304.42        8.58   \n",
       "\n",
       "   BOPD (barrel of oil produced per day)  \\\n",
       "0                                1378.93   \n",
       "1                                1028.75   \n",
       "2                                2017.92   \n",
       "3                                 558.22   \n",
       "4                                1280.47   \n",
       "\n",
       "   BWPD (barrel of water produced per day)  BSW - basic solid and water (%)  \\\n",
       "0                                  2812.62                            75.64   \n",
       "1                                   919.92                            44.21   \n",
       "2                                  1212.42                            17.55   \n",
       "3                                  1716.09                            65.79   \n",
       "4                                  1929.22                            37.45   \n",
       "\n",
       "   CO2 mol. (%) @ 25 C & 1 Atm.  Gas Grav.  CR-corrosion defect    CRDC  \\\n",
       "0                        3.3628     0.7205               0.2245  0.2245   \n",
       "1                        3.8679     0.8940               0.2262  0.2262   \n",
       "2                        2.3552     0.7661               0.2305  0.2305   \n",
       "3                        1.7253     0.7738               0.2303  0.2303   \n",
       "4                        1.8327     0.7611               0.2202  0.2202   \n",
       "\n",
       "      CRD  \n",
       "0  0.2245  \n",
       "1  0.2262  \n",
       "2  0.2305  \n",
       "3  0.2303  \n",
       "4  0.2202  "
      ]
     },
     "execution_count": 124,
     "metadata": {},
     "output_type": "execute_result"
    }
   ],
   "source": [
    "data['CRDC']=data['CR-corrosion defect']\n",
    "data['CRD'] = data['CR-corrosion defect']\n",
    "data.head()"
   ]
  },
  {
   "cell_type": "code",
   "execution_count": 125,
   "metadata": {},
   "outputs": [
    {
     "data": {
      "text/html": [
       "<div>\n",
       "<style scoped>\n",
       "    .dataframe tbody tr th:only-of-type {\n",
       "        vertical-align: middle;\n",
       "    }\n",
       "\n",
       "    .dataframe tbody tr th {\n",
       "        vertical-align: top;\n",
       "    }\n",
       "\n",
       "    .dataframe thead th {\n",
       "        text-align: right;\n",
       "    }\n",
       "</style>\n",
       "<table border=\"1\" class=\"dataframe\">\n",
       "  <thead>\n",
       "    <tr style=\"text-align: right;\">\n",
       "      <th></th>\n",
       "      <th>Wellhead Temp. (C)</th>\n",
       "      <th>Wellhead Press (psi)</th>\n",
       "      <th>MMCFD- gas</th>\n",
       "      <th>BOPD (barrel of oil produced per day)</th>\n",
       "      <th>BWPD (barrel of water produced per day)</th>\n",
       "      <th>BSW - basic solid and water (%)</th>\n",
       "      <th>CO2 mol. (%) @ 25 C &amp; 1 Atm.</th>\n",
       "      <th>Gas Grav.</th>\n",
       "      <th>CR-corrosion defect</th>\n",
       "      <th>CRDC</th>\n",
       "    </tr>\n",
       "  </thead>\n",
       "  <tbody>\n",
       "    <tr>\n",
       "      <th>0</th>\n",
       "      <td>53.35</td>\n",
       "      <td>1105.13</td>\n",
       "      <td>12.87</td>\n",
       "      <td>1378.93</td>\n",
       "      <td>2812.62</td>\n",
       "      <td>75.64</td>\n",
       "      <td>3.3628</td>\n",
       "      <td>0.7205</td>\n",
       "      <td>0.2245</td>\n",
       "      <td>high</td>\n",
       "    </tr>\n",
       "    <tr>\n",
       "      <th>1</th>\n",
       "      <td>72.25</td>\n",
       "      <td>1026.31</td>\n",
       "      <td>3.42</td>\n",
       "      <td>1028.75</td>\n",
       "      <td>919.92</td>\n",
       "      <td>44.21</td>\n",
       "      <td>3.8679</td>\n",
       "      <td>0.8940</td>\n",
       "      <td>0.2262</td>\n",
       "      <td>high</td>\n",
       "    </tr>\n",
       "    <tr>\n",
       "      <th>2</th>\n",
       "      <td>65.08</td>\n",
       "      <td>722.96</td>\n",
       "      <td>6.23</td>\n",
       "      <td>2017.92</td>\n",
       "      <td>1212.42</td>\n",
       "      <td>17.55</td>\n",
       "      <td>2.3552</td>\n",
       "      <td>0.7661</td>\n",
       "      <td>0.2305</td>\n",
       "      <td>high</td>\n",
       "    </tr>\n",
       "    <tr>\n",
       "      <th>3</th>\n",
       "      <td>60.71</td>\n",
       "      <td>1557.23</td>\n",
       "      <td>11.71</td>\n",
       "      <td>558.22</td>\n",
       "      <td>1716.09</td>\n",
       "      <td>65.79</td>\n",
       "      <td>1.7253</td>\n",
       "      <td>0.7738</td>\n",
       "      <td>0.2303</td>\n",
       "      <td>high</td>\n",
       "    </tr>\n",
       "    <tr>\n",
       "      <th>4</th>\n",
       "      <td>46.19</td>\n",
       "      <td>1304.42</td>\n",
       "      <td>8.58</td>\n",
       "      <td>1280.47</td>\n",
       "      <td>1929.22</td>\n",
       "      <td>37.45</td>\n",
       "      <td>1.8327</td>\n",
       "      <td>0.7611</td>\n",
       "      <td>0.2202</td>\n",
       "      <td>high</td>\n",
       "    </tr>\n",
       "  </tbody>\n",
       "</table>\n",
       "</div>"
      ],
      "text/plain": [
       "   Wellhead Temp. (C)  Wellhead Press (psi)  MMCFD- gas  \\\n",
       "0               53.35               1105.13       12.87   \n",
       "1               72.25               1026.31        3.42   \n",
       "2               65.08                722.96        6.23   \n",
       "3               60.71               1557.23       11.71   \n",
       "4               46.19               1304.42        8.58   \n",
       "\n",
       "   BOPD (barrel of oil produced per day)  \\\n",
       "0                                1378.93   \n",
       "1                                1028.75   \n",
       "2                                2017.92   \n",
       "3                                 558.22   \n",
       "4                                1280.47   \n",
       "\n",
       "   BWPD (barrel of water produced per day)  BSW - basic solid and water (%)  \\\n",
       "0                                  2812.62                            75.64   \n",
       "1                                   919.92                            44.21   \n",
       "2                                  1212.42                            17.55   \n",
       "3                                  1716.09                            65.79   \n",
       "4                                  1929.22                            37.45   \n",
       "\n",
       "   CO2 mol. (%) @ 25 C & 1 Atm.  Gas Grav.  CR-corrosion defect  CRDC  \n",
       "0                        3.3628     0.7205               0.2245  high  \n",
       "1                        3.8679     0.8940               0.2262  high  \n",
       "2                        2.3552     0.7661               0.2305  high  \n",
       "3                        1.7253     0.7738               0.2303  high  \n",
       "4                        1.8327     0.7611               0.2202  high  "
      ]
     },
     "execution_count": 125,
     "metadata": {},
     "output_type": "execute_result"
    }
   ],
   "source": [
    "data['CRDC'][(data.CRD>=0.01)&(data.CRD<0.025)]= 'low'\n",
    "data['CRDC'][(data.CRD>=0.025)&(data.CRD<0.13)]= 'mild'\n",
    "data['CRDC'][(data.CRD>=0.013)&(data.CRD<0.25)]= 'high'\n",
    "data['CRDC'][(data.CRD>=0.250)&(data.CRD<1.57)]= 'severe'\n",
    "data = data.drop('CRD', axis=1)\n",
    "data.head()"
   ]
  },
  {
   "cell_type": "code",
   "execution_count": 126,
   "metadata": {},
   "outputs": [],
   "source": [
    "data['CRDC']=data['CRDC'].astype('category').cat.codes"
   ]
  },
  {
   "cell_type": "code",
   "execution_count": 127,
   "metadata": {},
   "outputs": [
    {
     "data": {
      "image/png": "[encoded data removed]",
      "text/plain": [
       "<Figure size 432x288 with 1 Axes>"
      ]
     },
     "metadata": {
      "needs_background": "light"
     },
     "output_type": "display_data"
    }
   ],
   "source": [
    "sns.countplot(x='CRDC',data=data);"
   ]
  },
  {
   "cell_type": "code",
   "execution_count": 128,
   "metadata": {},
   "outputs": [],
   "source": [
    "# Split data into predictor and targets\n",
    "y = data.CRDC\n",
    "X = data.drop(['CRDC'],axis=1)\n",
    "labels=list(X.columns)\n",
    "number_features = len(labels)"
   ]
  },
  {
   "cell_type": "code",
   "execution_count": 129,
   "metadata": {},
   "outputs": [],
   "source": [
    "# Split Data to test and train set\n",
    "X_train, X_test, y_train, y_test = train_test_split(X, y, test_size=0.30, random_state=0)"
   ]
  },
  {
   "cell_type": "code",
   "execution_count": 130,
   "metadata": {},
   "outputs": [
    {
     "data": {
      "text/plain": [
       "DecisionTreeClassifier()"
      ]
     },
     "execution_count": 130,
     "metadata": {},
     "output_type": "execute_result"
    }
   ],
   "source": [
    "decision=DecisionTreeClassifier()\n",
    "decision.fit(X_train, y_train) # fit model"
   ]
  },
  {
   "cell_type": "code",
   "execution_count": 131,
   "metadata": {},
   "outputs": [
    {
     "name": "stdout",
     "output_type": "stream",
     "text": [
      "Accuracy: 0.9974093264248705\n",
      "\n",
      "  Report:\n",
      "                precision    recall  f1-score   support\n",
      "\n",
      "           0       0.00      0.00      0.00         1\n",
      "           1       0.00      0.00      0.00         0\n",
      "           2       0.00      0.00      0.00         1\n",
      "           3       0.00      0.00      0.00         2\n",
      "           4       0.00      0.00      0.00         0\n",
      "           5       0.00      0.00      0.00         1\n",
      "           6       0.00      0.00      0.00         0\n",
      "           7       0.00      0.00      0.00         0\n",
      "           8       0.00      0.00      0.00         0\n",
      "          10       0.00      0.00      0.00         1\n",
      "          11       0.00      0.00      0.00         1\n",
      "          13       1.00      1.00      1.00      2756\n",
      "          14       0.00      0.00      0.00         1\n",
      "          15       1.00      1.00      1.00       324\n",
      "\n",
      "    accuracy                           1.00      3088\n",
      "   macro avg       0.14      0.14      0.14      3088\n",
      "weighted avg       1.00      1.00      1.00      3088\n",
      "\n"
     ]
    }
   ],
   "source": [
    "print('Accuracy: {}\\n\\n  Report:\\n  {}'.format(decision.score(X_test, y_test),\n",
    "      classification_report(y_test,decision.predict(X_test))))"
   ]
  },
  {
   "cell_type": "code",
   "execution_count": 132,
   "metadata": {},
   "outputs": [
    {
     "data": {
      "text/plain": [
       "RandomForestClassifier(n_jobs=-1)"
      ]
     },
     "execution_count": 132,
     "metadata": {},
     "output_type": "execute_result"
    }
   ],
   "source": [
    "forest = RandomForestClassifier( n_jobs=-1)\n",
    "forest.fit(X_train, y_train) # fit model"
   ]
  },
  {
   "cell_type": "code",
   "execution_count": 133,
   "metadata": {},
   "outputs": [
    {
     "name": "stdout",
     "output_type": "stream",
     "text": [
      "Accuracy: 0.9974093264248705\n",
      "\n",
      "  Report:\n",
      "                precision    recall  f1-score   support\n",
      "\n",
      "           0       0.00      0.00      0.00         1\n",
      "           2       0.00      0.00      0.00         1\n",
      "           3       0.00      0.00      0.00         2\n",
      "           5       0.00      0.00      0.00         1\n",
      "          10       0.00      0.00      0.00         1\n",
      "          11       0.00      0.00      0.00         1\n",
      "          13       1.00      1.00      1.00      2756\n",
      "          14       0.00      0.00      0.00         1\n",
      "          15       1.00      1.00      1.00       324\n",
      "\n",
      "    accuracy                           1.00      3088\n",
      "   macro avg       0.22      0.22      0.22      3088\n",
      "weighted avg       0.99      1.00      1.00      3088\n",
      "\n"
     ]
    }
   ],
   "source": [
    "print('Accuracy: {}\\n\\n  Report:\\n  {}'.format(forest.score(X_test, y_test),\n",
    "      classification_report(y_test,forest.predict(X_test))))"
   ]
  },
  {
   "cell_type": "code",
   "execution_count": 134,
   "metadata": {},
   "outputs": [
    {
     "data": {
      "text/plain": [
       "LogisticRegression()"
      ]
     },
     "execution_count": 134,
     "metadata": {},
     "output_type": "execute_result"
    }
   ],
   "source": [
    "logistic = linear_model.LogisticRegression()\n",
    "logistic.fit(X_train, y_train)"
   ]
  },
  {
   "cell_type": "code",
   "execution_count": 135,
   "metadata": {},
   "outputs": [
    {
     "name": "stdout",
     "output_type": "stream",
     "text": [
      "Accuracy: 0.9002590673575129\n",
      "\n",
      "  Report: \n",
      "               precision    recall  f1-score   support\n",
      "\n",
      "           0       0.00      0.00      0.00         1\n",
      "           2       0.00      0.00      0.00         1\n",
      "           3       0.00      0.00      0.00         2\n",
      "           5       0.00      0.00      0.00         1\n",
      "          10       0.00      0.00      0.00         1\n",
      "          11       0.00      0.00      0.00         1\n",
      "          13       0.90      0.99      0.95      2756\n",
      "          14       0.00      0.00      0.00         1\n",
      "          15       0.69      0.13      0.22       324\n",
      "\n",
      "    accuracy                           0.90      3088\n",
      "   macro avg       0.18      0.13      0.13      3088\n",
      "weighted avg       0.88      0.90      0.87      3088\n",
      "\n"
     ]
    }
   ],
   "source": [
    "print('Accuracy: {}\\n\\n  Report: \\n {}'.format(logistic.score(X_test, y_test),\n",
    "      classification_report(y_test,logistic.predict(X_test))))"
   ]
  },
  {
   "cell_type": "code",
   "execution_count": 136,
   "metadata": {},
   "outputs": [
    {
     "data": {
      "text/plain": [
       "SVC(class_weight='balanced', probability=True)"
      ]
     },
     "execution_count": 136,
     "metadata": {},
     "output_type": "execute_result"
    }
   ],
   "source": [
    "svc = SVC(kernel='rbf',class_weight='balanced',probability=True)\n",
    "svc.fit(X_train,y_train)"
   ]
  },
  {
   "cell_type": "code",
   "execution_count": 137,
   "metadata": {},
   "outputs": [
    {
     "name": "stdout",
     "output_type": "stream",
     "text": [
      "Accuracy: 0.44462435233160624\n",
      "\n",
      "  Report: \n",
      "               precision    recall  f1-score   support\n",
      "\n",
      "           0       0.00      0.00      0.00         1\n",
      "           1       0.00      0.00      0.00         0\n",
      "           2       0.01      1.00      0.01         1\n",
      "           3       0.00      0.00      0.00         2\n",
      "           4       0.00      0.00      0.00         0\n",
      "           5       0.00      0.00      0.00         1\n",
      "           6       0.00      0.00      0.00         0\n",
      "           7       0.00      0.00      0.00         0\n",
      "           8       0.00      0.00      0.00         0\n",
      "           9       0.00      0.00      0.00         0\n",
      "          10       0.00      0.00      0.00         1\n",
      "          11       0.00      0.00      0.00         1\n",
      "          12       0.00      0.00      0.00         0\n",
      "          13       0.98      0.42      0.59      2756\n",
      "          14       0.00      0.00      0.00         1\n",
      "          15       0.37      0.68      0.48       324\n",
      "\n",
      "    accuracy                           0.44      3088\n",
      "   macro avg       0.08      0.13      0.07      3088\n",
      "weighted avg       0.91      0.44      0.57      3088\n",
      "\n"
     ]
    }
   ],
   "source": [
    "print('Accuracy: {}\\n\\n  Report: \\n {}'.format(svc.score(X_test, y_test),\n",
    "      classification_report(y_test,svc.predict(X_test))))"
   ]
  },
  {
   "cell_type": "code",
   "execution_count": 138,
   "metadata": {},
   "outputs": [
    {
     "data": {
      "image/png": "[encoded data removed]",
      "text/plain": [
       "<Figure size 432x288 with 1 Axes>"
      ]
     },
     "metadata": {
      "needs_background": "light"
     },
     "output_type": "display_data"
    }
   ],
   "source": [
    "\n",
    "# Binarize the output\n",
    "y = label_binarize(y, classes=[0,1,2,3])\n",
    "n_classes = y.shape[1]\n",
    "\n",
    "X_train, X_test, y_train, y_test = train_test_split(X, y, test_size=.5, random_state=0)\n",
    "\n",
    "classifier = OneVsRestClassifier(DecisionTreeClassifier(random_state=0))\n",
    "y_score = classifier.fit(X_train, y_train).predict_proba(X_test)\n",
    "\n",
    "\n",
    "fpr = dict()\n",
    "tpr = dict()\n",
    "roc_auc = dict()\n",
    "for i in range(n_classes):\n",
    "    fpr[i], tpr[i], _ = roc_curve(y_test[:, i], y_score[:, i])\n",
    "    roc_auc[i] = auc(fpr[i], tpr[i])\n",
    "colors = cycle(['blue', 'red', 'green','yellow'])\n",
    "for i, color in zip(range(n_classes), colors):\n",
    "    plt.plot(fpr[i], tpr[i], color=color, lw=1.5,\n",
    "             label='ROC curve of class {0} (area = {1:0.2f})'\n",
    "             ''.format(i, roc_auc[i]))\n",
    "\n",
    "plt.plot([0, 1], [0, 1], 'k--', lw=1.5)\n",
    "plt.xlim([-0.05, 1.0])\n",
    "plt.ylim([0.0, 1.05])\n",
    "plt.xlabel('False Positive Rate')\n",
    "plt.ylabel('True Positive Rate')\n",
    "plt.title('ROC for different corrosion level-multi-class data')\n",
    "plt.legend(loc=\"lower right\")\n",
    "plt.show()"
   ]
  },
  {
   "cell_type": "code",
   "execution_count": null,
   "metadata": {},
   "outputs": [],
   "source": []
  }
 ],
 "metadata": {
  "kernelspec": {
   "display_name": "Python 3",
   "language": "python",
   "name": "python3"
  },
  "language_info": {
   "codemirror_mode": {
    "name": "ipython",
    "version": 3
   },
   "file_extension": ".py",
   "mimetype": "text/x-python",
   "name": "python",
   "nbconvert_exporter": "python",
   "pygments_lexer": "ipython3",
   "version": "3.7.4"
  }
 },
 "nbformat": 4,
 "nbformat_minor": 4
}
